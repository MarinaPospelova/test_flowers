{
 "cells": [
  {
   "cell_type": "markdown",
   "metadata": {},
   "source": [
    "# Подготовка данных"
   ]
  },
  {
   "cell_type": "code",
   "execution_count": 16,
   "metadata": {},
   "outputs": [
    {
     "name": "stdout",
     "output_type": "stream",
     "text": [
      "Requirement already satisfied: pillow in c:\\users\\marin\\appdata\\local\\programs\\python\\python39\\lib\\site-packages (11.1.0)\n"
     ]
    }
   ],
   "source": [
    "import zipfile\n",
    "import os\n",
    "import numpy as np\n",
    "import matplotlib.pyplot as plt\n",
    "from PIL import Image\n",
    "import numpy as np\n",
    "from tensorflow.keras.preprocessing import image\n",
    "\n",
    "with zipfile.ZipFile('flowers-recognition.zip', 'r') as zip_ref:\n",
    "    zip_ref.extractall('flowers-recognition')\n",
    "\n",
    "path = 'flowers-recognition/flowers'\n",
    "classes = ['daisy', 'dandelion', 'rose', 'sunflower', 'tulip']\n",
    "\n",
    "def load_images(data_dir, classes):\n",
    "    images = []\n",
    "    labels = []\n",
    "    for cl in classes:\n",
    "        class_path = os.path.join(data_dir, cl)\n",
    "        for img in os.listdir(class_path):\n",
    "            img_path = os.path.join(class_path, img)\n",
    "            img = Image.open(img_path).resize((224, 224))  \n",
    "            img = np.array(img)  \n",
    "            img = preprocess_input(img) \n",
    "            images.append(img)\n",
    "            labels.append(cl)\n",
    "    return np.array(images), np.array(labels)\n",
    "\n",
    "images, labels = load_images(path, classes)"
   ]
  },
  {
   "cell_type": "code",
   "execution_count": 2,
   "metadata": {},
   "outputs": [
    {
     "name": "stdout",
     "output_type": "stream",
     "text": [
      "3.9.11 (tags/v3.9.11:2de452f, Mar 16 2022, 14:33:45) [MSC v.1929 64 bit (AMD64)]\n"
     ]
    }
   ],
   "source": [
    "import sys\n",
    "print(sys.version)"
   ]
  },
  {
   "cell_type": "code",
   "execution_count": null,
   "metadata": {},
   "outputs": [],
   "source": []
  },
  {
   "cell_type": "code",
   "execution_count": null,
   "metadata": {},
   "outputs": [],
   "source": []
  }
 ],
 "metadata": {
  "kernelspec": {
   "display_name": "Python 3 (ipykernel)",
   "language": "python",
   "name": "python3"
  },
  "language_info": {
   "codemirror_mode": {
    "name": "ipython",
    "version": 3
   },
   "file_extension": ".py",
   "mimetype": "text/x-python",
   "name": "python",
   "nbconvert_exporter": "python",
   "pygments_lexer": "ipython3",
   "version": "3.9.11"
  }
 },
 "nbformat": 4,
 "nbformat_minor": 4
}
